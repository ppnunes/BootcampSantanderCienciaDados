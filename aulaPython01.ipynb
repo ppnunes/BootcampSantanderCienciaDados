{
  "nbformat": 4,
  "nbformat_minor": 0,
  "metadata": {
    "colab": {
      "provenance": [],
      "authorship_tag": "ABX9TyPx6hPpf43b2n/94gCZufVp",
      "include_colab_link": true
    },
    "kernelspec": {
      "name": "python3",
      "display_name": "Python 3"
    },
    "language_info": {
      "name": "python"
    }
  },
  "cells": [
    {
      "cell_type": "markdown",
      "metadata": {
        "id": "view-in-github",
        "colab_type": "text"
      },
      "source": [
        "<a href=\"https://colab.research.google.com/github/ppnunes/BootcampSantanderCienciaDados/blob/main/aulaPython01.ipynb\" target=\"_parent\"><img src=\"https://colab.research.google.com/assets/colab-badge.svg\" alt=\"Open In Colab\"/></a>"
      ]
    },
    {
      "cell_type": "markdown",
      "source": [
        "**Tipos de dados built-in:**\n",
        "\n",
        "- Texto: str\n",
        "- Númerico: int, float, complex\n",
        "- Sequência: list, tuple, range\n",
        "- Mapa: dict\n",
        "- Coleção: set, fronzenset\n",
        "- Booleano: bool\n",
        "- Binário: bytes, bytearray, memoryview"
      ],
      "metadata": {
        "id": "9mv2KXRwiBYM"
      }
    },
    {
      "cell_type": "code",
      "source": [
        "print(\"Hello World!\")"
      ],
      "metadata": {
        "colab": {
          "base_uri": "https://localhost:8080/"
        },
        "id": "SpL2e81UlSow",
        "outputId": "e7152fdc-2879-4528-b480-4ae46543c6be"
      },
      "execution_count": 1,
      "outputs": [
        {
          "output_type": "stream",
          "name": "stdout",
          "text": [
            "Hello World!\n"
          ]
        }
      ]
    }
  ]
}