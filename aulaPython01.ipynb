{
  "nbformat": 4,
  "nbformat_minor": 0,
  "metadata": {
    "colab": {
      "provenance": [],
      "authorship_tag": "ABX9TyPNRuLHi3yNioZa6YbhI+FC",
      "include_colab_link": true
    },
    "kernelspec": {
      "name": "python3",
      "display_name": "Python 3"
    },
    "language_info": {
      "name": "python"
    }
  },
  "cells": [
    {
      "cell_type": "markdown",
      "metadata": {
        "id": "view-in-github",
        "colab_type": "text"
      },
      "source": [
        "<a href=\"https://colab.research.google.com/github/ppnunes/BootcampSantanderCienciaDados/blob/main/aulaPython01.ipynb\" target=\"_parent\"><img src=\"https://colab.research.google.com/assets/colab-badge.svg\" alt=\"Open In Colab\"/></a>"
      ]
    },
    {
      "cell_type": "markdown",
      "source": [
        "**Tipos de dados built-in:**\n",
        "\n",
        "- Texto: str\n",
        "- Númerico: int, float, complex\n",
        "- Sequência: list, tuple, range\n",
        "- Mapa: dict\n",
        "- Coleção: set, fronzenset\n",
        "- Booleano: bool\n",
        "- Binário: bytes, bytearray, memoryview"
      ],
      "metadata": {
        "id": "9mv2KXRwiBYM"
      }
    },
    {
      "cell_type": "markdown",
      "source": [
        "Conversão de tipos de variáveis:\n",
        "\n",
        "- Inteiro para float"
      ],
      "metadata": {
        "id": "1OsfirE8m0os"
      }
    },
    {
      "cell_type": "code",
      "source": [
        "preco = 10\n",
        "\n",
        "preco = float(preco)\n",
        "print(preco)\n",
        "\n",
        "preco = 10/2\n",
        "print(preco)\n"
      ],
      "metadata": {
        "colab": {
          "base_uri": "https://localhost:8080/"
        },
        "id": "sJz-zrxenIeH",
        "outputId": "f6b98369-0720-4fa0-9b26-3817bc4d9b8b"
      },
      "execution_count": 1,
      "outputs": [
        {
          "output_type": "stream",
          "name": "stdout",
          "text": [
            "10.0\n",
            "5.0\n"
          ]
        }
      ]
    },
    {
      "cell_type": "markdown",
      "source": [
        "- Float para inteiro"
      ],
      "metadata": {
        "id": "NL6QuaFgoXCD"
      }
    },
    {
      "cell_type": "code",
      "source": [
        "preco = 10\n",
        "\n",
        "print(preco/2)\n",
        "\n",
        "print(preco//2)\n"
      ],
      "metadata": {
        "colab": {
          "base_uri": "https://localhost:8080/"
        },
        "id": "dsxYYp4Hojvk",
        "outputId": "f6570fa0-b181-4218-c271-0ac7c6fdef7e"
      },
      "execution_count": 3,
      "outputs": [
        {
          "output_type": "stream",
          "name": "stdout",
          "text": [
            "5.0\n",
            "5\n"
          ]
        }
      ]
    },
    {
      "cell_type": "markdown",
      "source": [
        "- Número para string"
      ],
      "metadata": {
        "id": "9VihK5tBpSSf"
      }
    },
    {
      "cell_type": "code",
      "source": [
        "print(str(preco))"
      ],
      "metadata": {
        "colab": {
          "base_uri": "https://localhost:8080/"
        },
        "id": "htsA_qTypWWq",
        "outputId": "00d9651d-d589-4bab-b38e-011ec363d837"
      },
      "execution_count": 4,
      "outputs": [
        {
          "output_type": "stream",
          "name": "stdout",
          "text": [
            "10\n"
          ]
        }
      ]
    },
    {
      "cell_type": "markdown",
      "source": [
        "- String para número"
      ],
      "metadata": {
        "id": "wyb0V1_0pf03"
      }
    },
    {
      "cell_type": "code",
      "source": [
        "print(float(preco))\n",
        "\n",
        "print(int(preco))"
      ],
      "metadata": {
        "id": "rEsgJPj7ps_U"
      },
      "execution_count": null,
      "outputs": []
    }
  ]
}