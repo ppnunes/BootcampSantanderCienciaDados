{
  "nbformat": 4,
  "nbformat_minor": 0,
  "metadata": {
    "colab": {
      "provenance": [],
      "authorship_tag": "ABX9TyM8OajVfPnlgmZV16vnCNnr"
    },
    "kernelspec": {
      "name": "python3",
      "display_name": "Python 3"
    },
    "language_info": {
      "name": "python"
    }
  },
  "cells": [
    {
      "cell_type": "markdown",
      "source": [
        "**Maiúscula, minúscula e título**\n",
        "\n",
        "\n",
        ".upper() - todas em caixa alta<br>\n",
        ".lower() - todas em caixa baixa<br>\n",
        ".title() - primeira letra caixa alta"
      ],
      "metadata": {
        "id": "ghD9nUrHO-i-"
      }
    },
    {
      "cell_type": "code",
      "source": [
        "curso = \"pYtHon\"\n",
        "print(curso.upper())\n",
        "\n",
        "print(curso.lower())\n",
        "\n",
        "print(curso.title())\n"
      ],
      "metadata": {
        "colab": {
          "base_uri": "https://localhost:8080/"
        },
        "id": "GdiWRW8HPaSE",
        "outputId": "f8a122aa-c226-44a0-e211-1f0f7648ea31"
      },
      "execution_count": 2,
      "outputs": [
        {
          "output_type": "stream",
          "name": "stdout",
          "text": [
            "PYTHON\n",
            "python\n",
            "Python\n"
          ]
        }
      ]
    },
    {
      "cell_type": "markdown",
      "source": [
        "**Eliminando espaços em branco**\n",
        "\n",
        ".strip() - elimina os espaços da esquerda e da direita<br>\n",
        ".lstrip() -  elimina os espaços da esquerda<br>\n",
        ".rstrip() - elimina os espaços da direita"
      ],
      "metadata": {
        "id": "9622z5ZwP3O1"
      }
    },
    {
      "cell_type": "code",
      "source": [
        "curso = \"   Python   \"\n",
        "\n",
        "print(curso.strip())\n",
        "\n",
        "print(curso.lstrip())\n",
        "\n",
        "print(curso.rstrip())"
      ],
      "metadata": {
        "colab": {
          "base_uri": "https://localhost:8080/"
        },
        "id": "iatauecIP9NU",
        "outputId": "7b4ebd7b-5206-4521-bd85-040221bdba81"
      },
      "execution_count": 3,
      "outputs": [
        {
          "output_type": "stream",
          "name": "stdout",
          "text": [
            "Python\n",
            "Python   \n",
            "   Python\n"
          ]
        }
      ]
    },
    {
      "cell_type": "markdown",
      "source": [
        "**Centralização e Junçao**\n",
        "\n",
        ".center(10, \"D\") - centraliza e recebe dpois parâmetros: aqui, 10 é o numero de caracteres total e D é o caracter que eu quero que ele insira antes e depois"
      ],
      "metadata": {
        "id": "tK6CiQzqRe6u"
      }
    },
    {
      "cell_type": "code",
      "source": [
        "curso = \"Python\"\n",
        "print(curso.center(10, \"#\"))"
      ],
      "metadata": {
        "colab": {
          "base_uri": "https://localhost:8080/"
        },
        "id": "X-f8XoDAS0ZQ",
        "outputId": "e41ea8b1-9223-404f-c04b-46e71ec659fc"
      },
      "execution_count": 4,
      "outputs": [
        {
          "output_type": "stream",
          "name": "stdout",
          "text": [
            "##Python##\n"
          ]
        }
      ]
    },
    {
      "cell_type": "markdown",
      "source": [
        ".join() - insere o caracter escolhido entre os caracteres da variavel selecionada"
      ],
      "metadata": {
        "id": "Yl0GJH1yS5av"
      }
    },
    {
      "cell_type": "code",
      "source": [
        "print(\".\".join(curso))"
      ],
      "metadata": {
        "colab": {
          "base_uri": "https://localhost:8080/"
        },
        "id": "BpQmYkxrTLNP",
        "outputId": "ee731932-fa01-4f89-8caa-e99d952509d5"
      },
      "execution_count": 5,
      "outputs": [
        {
          "output_type": "stream",
          "name": "stdout",
          "text": [
            "P.y.t.h.o.n\n"
          ]
        }
      ]
    },
    {
      "cell_type": "markdown",
      "source": [
        "<h1>Interpolação de Variáveis<h1>\n",
        "\n",
        "**Método .format()**"
      ],
      "metadata": {
        "id": "t2cAX4fPTNqe"
      }
    },
    {
      "cell_type": "code",
      "source": [
        "nome = \"Priscila\"\n",
        "idade = 30\n",
        "profissao = \"Programadora\"\n",
        "linguagem = \"Python\"\n",
        "\n",
        "print(\"Olá, me chamo {}. Eu tenho {} anos de idade, trabalho como {} e estou matriculada no curso de {}.\".format(nome, idade, profissao,\n",
        "linguagem))"
      ],
      "metadata": {
        "colab": {
          "base_uri": "https://localhost:8080/"
        },
        "id": "fRyC1AwbUlNF",
        "outputId": "420846b9-eb3e-41fc-b865-a9ba7cfb36f1"
      },
      "execution_count": 6,
      "outputs": [
        {
          "output_type": "stream",
          "name": "stdout",
          "text": [
            "Olá, me chamo Priscila. Eu tenho 30 anos de idade, trabalho como Programadora e estou matriculada no curso de Python.\n"
          ]
        }
      ]
    },
    {
      "cell_type": "markdown",
      "source": [
        "inserindo o indice da cada variavel:"
      ],
      "metadata": {
        "id": "srGv6FGOV1p-"
      }
    },
    {
      "cell_type": "code",
      "source": [
        "print(\"Olá, me chamo {3}. Eu tenho {2} anos de idade, trabalho como {1} e estou matriculado no curso de {0}.\".format(linguagem, profissao, idade,\n",
        "nome))"
      ],
      "metadata": {
        "colab": {
          "base_uri": "https://localhost:8080/"
        },
        "id": "BMYjD9f5U5Ea",
        "outputId": "c100bb1a-5348-4f2f-b80c-ae3660f0b7e2"
      },
      "execution_count": 7,
      "outputs": [
        {
          "output_type": "stream",
          "name": "stdout",
          "text": [
            "Olá, me chamo Priscila. Eu tenho 30 anos de idade, trabalho como Programadora e estou matriculado no curso de Python.\n"
          ]
        }
      ]
    },
    {
      "cell_type": "markdown",
      "source": [
        "inserindo o nome das variáveis e seu identificador:"
      ],
      "metadata": {
        "id": "NUCrFKpAWgGO"
      }
    },
    {
      "cell_type": "code",
      "source": [
        "print(\"Olá, me chamo {nome}. Eu tenho {idade} anos de idade, trabalho como {profissao} e estou matriculado no curso de {linguagem}.\".format(nome=nome, idade=idade, profissao=profissao,\n",
        "linguagem=linguagem))"
      ],
      "metadata": {
        "colab": {
          "base_uri": "https://localhost:8080/"
        },
        "id": "hQIf7LIlVEDi",
        "outputId": "c294369b-cb2d-4690-bd0f-e977b7412afc"
      },
      "execution_count": 8,
      "outputs": [
        {
          "output_type": "stream",
          "name": "stdout",
          "text": [
            "Olá, me chamo Priscila. Eu tenho 30 anos de idade, trabalho como Programadora e estou matriculado no curso de Python.\n"
          ]
        }
      ]
    },
    {
      "cell_type": "markdown",
      "source": [
        "**Método f-string**"
      ],
      "metadata": {
        "id": "g9c6A9igW-ei"
      }
    },
    {
      "cell_type": "code",
      "source": [
        "nome = \"Guilherme\"\n",
        "idade = 28\n",
        "profissao = \"Programador\"\n",
        "linguagem = \"Python\"\n",
        "\n",
        "print(f\"Olá, me chamo {nome}. Eu tenho {idade} anos de idade, trabalho como {profissao} e estou matriculado no curso de {linguagem}.\")"
      ],
      "metadata": {
        "id": "oOEHtipmaVBh"
      },
      "execution_count": null,
      "outputs": []
    },
    {
      "cell_type": "code",
      "source": [
        "PI = 3.14159\n",
        "\n",
        "print(f\"Valor de PI: {PI:.2f}\")\n",
        "\n",
        "print(f\"Valor de PI: {PI:10.2f}\")"
      ],
      "metadata": {
        "colab": {
          "base_uri": "https://localhost:8080/"
        },
        "id": "sGWUTb_lacaw",
        "outputId": "0fd295cc-9be7-45b8-8d63-3a4570d4c9c4"
      },
      "execution_count": 10,
      "outputs": [
        {
          "output_type": "stream",
          "name": "stdout",
          "text": [
            "Valor de PI: 3.14\n",
            "Valor de PI:       3.14\n"
          ]
        }
      ]
    },
    {
      "cell_type": "markdown",
      "source": [
        "<h1>Fatiamento de string<h1>\n",
        "\n",
        "Fatiamento de strings é uma técnica utilizada para retornar substrings (partes da string original), informando inicio (start), fim (stop) e passo (step): [start: stop[,step]]"
      ],
      "metadata": {
        "id": "KTg0YMFjaldi"
      }
    },
    {
      "cell_type": "code",
      "source": [
        "nome = \"Guilherme Arthur de Carvalho\"\n",
        "\n",
        "nome[0]\n",
        ">>> \"G\"\n",
        "\n",
        "nome[:9]\n",
        ">>> \"Guilherme\"\n",
        "\n",
        "nome[10:]\n",
        ">>> \"Arthur de Carvalho\"\n",
        "\n",
        "nome[10:16]\n",
        ">>> \"Arthur\"\n",
        "\n",
        "nome[10:16:2]\n",
        ">>> \"Atu\"\n",
        "\n",
        "nome[:]\n",
        ">>> \"Guilherme Arthur de Carvalho\"\n",
        "\n",
        "nome[::-1]\n",
        ">>> \"ohlavraC ed ruhtrA emrehliuG\" Faz o espelhamento"
      ],
      "metadata": {
        "id": "0XDTP191a3jw"
      },
      "execution_count": null,
      "outputs": []
    },
    {
      "cell_type": "markdown",
      "source": [
        "<h1>Strings triplas / múltiplas linhas<h1>\n",
        "\n",
        "Strings de múltiplas linhas são definidas informando 3 aspas simples ou duplas durante a atribuição. Elas podem ocupar várias linhas do código, e todos os espaços em branco são incluídos na string final."
      ],
      "metadata": {
        "id": "M_23gbSIbxre"
      }
    },
    {
      "cell_type": "code",
      "source": [
        "nome = \"Priscila\"\n",
        "mensagem = f'''\n",
        "Olá meu nome é {nome},\n",
        "  Eu estou aprendendo Python.\n",
        "    Essa mensagem tem diferentes recuos.\n",
        "'''\n",
        "print(mensagem)"
      ],
      "metadata": {
        "colab": {
          "base_uri": "https://localhost:8080/"
        },
        "id": "4KVZm8R2b_m7",
        "outputId": "798ccae6-3c9c-4eb4-d897-50549864f7a9"
      },
      "execution_count": 13,
      "outputs": [
        {
          "output_type": "stream",
          "name": "stdout",
          "text": [
            "\n",
            "Olá meu nome é Priscila,\n",
            "  Eu estou aprendendo Python.\n",
            "    Essa mensagem tem diferentes recuos.\n",
            "\n"
          ]
        }
      ]
    }
  ]
}